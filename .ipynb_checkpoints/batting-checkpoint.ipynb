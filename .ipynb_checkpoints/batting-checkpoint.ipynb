{
 "cells": [
  {
   "cell_type": "markdown",
   "metadata": {},
   "source": [
    "## importing necessary libraries"
   ]
  },
  {
   "cell_type": "code",
   "execution_count": null,
   "metadata": {},
   "outputs": [],
   "source": [
    "print(\"Hi\")"
   ]
  },
  {
   "cell_type": "code",
   "execution_count": null,
   "metadata": {},
   "outputs": [],
   "source": [
    "import pandas as pd\n",
    "import matplotlib.pyplot as plt\n",
    "import seaborn as sns"
   ]
  },
  {
   "cell_type": "markdown",
   "metadata": {},
   "source": [
    "## reading csv and manipulating dataframes"
   ]
  },
  {
   "cell_type": "code",
   "execution_count": null,
   "metadata": {},
   "outputs": [],
   "source": [
    "df = pd.read_csv('t20_batting_source.csv',usecols=['Player','Runs','4s','6s','Start_date'],parse_dates=['Start_date'])\n",
    "\n",
    "nplayer = [x.split(\" (\")[0] for x in df[\"Player\"]]\n",
    "country = [ x.split(\"(\")[1].split(\")\")[0]  for x in df[\"Player\"]]\n",
    "df[\"Player\"] = nplayer\n",
    "df[\"Country\"] = country\n",
    "\n",
    "df['Runs'] = df['Runs'].str.replace('*','')\n",
    "\n",
    "df1 = df.set_index('Runs')\n",
    "df2 = df1.drop(['DNB','TDNB','absent','sub']).reset_index()\n",
    "cdf = df2.set_index('Country')\n",
    "mdf = cdf.drop(['ICC','1','2','3']).reset_index()\n",
    "\n",
    "mdf.to_csv('t20_modified.csv',index=False)\n",
    "\n",
    "ndf = pd.read_csv('t20_modified.csv',dtype={'Runs':int,'4s':int,'6s':int})\n",
    "\n",
    "ndf['50s'] = ndf['Runs'].between(50,99).replace({True:1,False:0})\n",
    "ndf.head()\n",
    "\n",
    "ddf = pd.DataFrame([['0AA', 'INDIA','1971-01', 0],\n",
    "                    ['1AA', 'PAK', '1971-01', 0],\n",
    "                    ['2AA', 'AUS',  '1971-01', 0],\n",
    "                    ['3AA', 'SL', '1971-01', 0],\n",
    "                    ['4AA', 'WI', '1971-01', 0],\n",
    "                    ['5AA', 'ENG', '1971-01', 0],\n",
    "                    ['6AA', 'SA', '1971-01', 0],\n",
    "                    ['7AA', 'NZ', '1971-01', 0],\n",
    "                   ['8AA', 'BDESH', '1971-01', 0],\n",
    "                    ['9AA', 'AFG', '1971-01', 0]],\n",
    "                  columns=['Player', 'Country', 'Start_date', 'Runs'])\n",
    "\n",
    "adf = pd.concat([ddf,ndf],ignore_index=True,sort=False)\n",
    "\n",
    "fdf = pd.read_csv('flags.csv')\n",
    "\n",
    "bigdata = pd.merge(adf,fdf, on = \"Country\")\n",
    "bigdata['Start_date'] = pd.to_datetime(bigdata['Start_date'])\n",
    "bigdata.fillna(value=0,inplace = True)\n",
    "bigdata.head()\n",
    "\n",
    "summary = bigdata.groupby(['Player','Country'])['Runs','4s','6s','50s'].sum().sort_values('Runs',ascending=False)\n",
    "summary.reset_index(inplace=True)\n",
    "summary.head(10)"
   ]
  },
  {
   "cell_type": "markdown",
   "metadata": {},
   "source": [
    "## Visualizations"
   ]
  },
  {
   "cell_type": "code",
   "execution_count": null,
   "metadata": {},
   "outputs": [],
   "source": [
    "sns.set_style('dark')\n",
    "\n",
    "def plot_fig(col):\n",
    "    plt.figure(figsize=(10,5))\n",
    "    df = summary.sort_values(col,ascending=False).head(15)\n",
    "    sns.barplot(data=df,y='Player',x=col,palette='muted')\n",
    "    plt.title('Top 15 cricketers with highest ' + col + ' in T20s')"
   ]
  },
  {
   "cell_type": "code",
   "execution_count": null,
   "metadata": {},
   "outputs": [],
   "source": [
    "for col in ['Runs','4s','6s','50s']:\n",
    "    plot_fig(col)"
   ]
  },
  {
   "cell_type": "markdown",
   "metadata": {},
   "source": [
    "## Generating batting records (CSV files)"
   ]
  },
  {
   "cell_type": "code",
   "execution_count": null,
   "metadata": {},
   "outputs": [],
   "source": [
    "def final_csv(col):\n",
    "    pivot_df = bigdata.pivot_table( index=[\"Player\", \"Country\",\"Flags\"], columns=\"Start_date\", values = col)\n",
    "    pivot_df.fillna(value=0,inplace = True)\n",
    "    cum_df = pivot_df.cumsum(axis =1)\n",
    "    cum_df.columns = cum_df.columns.year\n",
    "    cum_df.to_csv('final_t20_'+col+'.csv')\n",
    "\n",
    "runs = final_csv('Runs')\n",
    "\n",
    "fours = final_csv('4s')\n",
    "\n",
    "sixes = final_csv('6s')\n",
    "\n",
    "fifties = final_csv('50s')"
   ]
  }
 ],
 "metadata": {
  "kernelspec": {
   "display_name": "Python 3",
   "language": "python",
   "name": "python3"
  },
  "language_info": {
   "codemirror_mode": {
    "name": "ipython",
    "version": 3
   },
   "file_extension": ".py",
   "mimetype": "text/x-python",
   "name": "python",
   "nbconvert_exporter": "python",
   "pygments_lexer": "ipython3",
   "version": "3.7.3"
  }
 },
 "nbformat": 4,
 "nbformat_minor": 2
}
